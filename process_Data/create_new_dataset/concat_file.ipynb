{
 "cells": [
  {
   "cell_type": "code",
   "execution_count": 1,
   "metadata": {},
   "outputs": [],
   "source": [
    "from random import shuffle\n",
    "import pandas as pd\n",
    "from sklearn.utils import shuffle\n",
    "\n",
    "#### PATH STORE\n",
    "\n",
    "TRAIN_PATH='../../data/matrix4/normal/train.csv'\n",
    "TEST_https_PATH='../../data/matrix4/normal/TEST_OK_httpParams.csv'\n",
    "TEST_FWAF_PATH='../../data/matrix4/normal/TEST_OK_fwaf.csv'\n",
    "TEST_csic2010_PATH='../../data/matrix4/normal/TEST_OK_csic2010.csv'\n",
    "\n",
    "\n",
    "### PATH READ \n",
    "TRAIN_PATH_ano='../../data/matrix4/temp/train.csv'\n",
    "TEST_FWAF_PATH_ano='../../data/matrix4/temp/TEST_OK_fwaf.csv'\n",
    "TEST_csic2010_PATH_ano='../../data/matrix4/temp/TEST_OK_csic2010.csv'\n",
    "TEST_https_PATH_ano='../../data/matrix4/temp/TEST_OK_httpParams.csv'\n",
    "\n",
    "TRAIN_PATH_nor='../../data/matrix4/temp/train_nor.csv'\n",
    "TEST_https_PATH_nor='../../data/matrix4/temp/TEST_OK_httpParams_nor.csv'\n",
    "TEST_FWAF_PATH_nor='../../data/matrix4/temp/TEST_OK_fwaf_nor.csv'\n",
    "TEST_csic2010_PATH_nor='../../data/matrix4/temp/TEST_OK_csic2010_nor.csv'\n"
   ]
  },
  {
   "cell_type": "code",
   "execution_count": 3,
   "metadata": {},
   "outputs": [],
   "source": [
    "def concat_df(df1_f, d2_f, path):\n",
    "    df1 = pd.read_csv(df1_f)\n",
    "    df2 = pd.read_csv(d2_f)\n",
    "    df_concat =  pd.concat([df1,df2]) \n",
    "    # df_concat.to_csv(path,index=False)\n",
    "    shuffled_df = df_concat.sample(frac=1).reset_index(drop=True)\n",
    "    shuffled_df.to_csv(path,index=False)\n",
    "\n",
    "concat_df(TRAIN_PATH_ano,TRAIN_PATH_nor,TRAIN_PATH)\n",
    "concat_df(TEST_https_PATH_ano,TEST_https_PATH_nor,TEST_https_PATH)\n",
    "concat_df(TEST_FWAF_PATH_ano,TEST_https_PATH_nor,TEST_FWAF_PATH)\n",
    "concat_df(TEST_csic2010_PATH_ano,TEST_csic2010_PATH_nor,TEST_csic2010_PATH)"
   ]
  }
 ],
 "metadata": {
  "kernelspec": {
   "display_name": "Python 3",
   "language": "python",
   "name": "python3"
  },
  "language_info": {
   "codemirror_mode": {
    "name": "ipython",
    "version": 3
   },
   "file_extension": ".py",
   "mimetype": "text/x-python",
   "name": "python",
   "nbconvert_exporter": "python",
   "pygments_lexer": "ipython3",
   "version": "3.10.6"
  },
  "orig_nbformat": 4
 },
 "nbformat": 4,
 "nbformat_minor": 2
}
