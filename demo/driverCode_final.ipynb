{
 "cells": [
  {
   "cell_type": "code",
   "execution_count": null,
   "metadata": {},
   "outputs": [],
   "source": [
    "# Load the Drive helper and mount\n",
    "from google.colab import drive\n",
    "import pandas as pd\n",
    "\n",
    "# This will prompt for authorization.\n",
    "drive.mount('/content/drive')"
   ]
  },
  {
   "cell_type": "code",
   "execution_count": null,
   "metadata": {},
   "outputs": [],
   "source": [
    "# import the class\n",
    "from functions_final import DeepQLearning\n",
    "# classical gym "
   ]
  },
  {
   "cell_type": "code",
   "execution_count": null,
   "metadata": {},
   "outputs": [],
   "source": [
    "TRAIN_PATH='/content/drive/MyDrive/HaiHa/data/matrix1/normal/train-normal.csv'\n",
    "data = pd.read_csv(TRAIN_PATH)"
   ]
  },
  {
   "cell_type": "code",
   "execution_count": null,
   "metadata": {},
   "outputs": [],
   "source": [
    "# select the parameters\n",
    "gamma=1\n",
    "# probability parameter for the epsilon-greedy approach\n",
    "epsilon=0.1\n",
    "# number of training episodes\n",
    "# NOTE HERE THAT AFTER CERTAIN NUMBERS OF EPISODES, WHEN THE PARAMTERS ARE LEARNED\n",
    "# THE EPISODE WILL BE LONG, AT THAT POINT YOU CAN STOP THE TRAINING PROCESS BY PRESSING CTRL+C\n",
    "# DO NOT WORRY, THE PARAMETERS WILL BE MEMORIZED\n",
    "numberEpisodes=1000\n",
    "\n",
    "state_size = 38\n",
    "action_size = 2\n",
    "batch_size = 100\n",
    "episodes = data.shape[0]"
   ]
  },
  {
   "cell_type": "code",
   "execution_count": null,
   "metadata": {},
   "outputs": [],
   "source": [
    "# create an object\n",
    "LearningQDeep=DeepQLearning(state_size,action_size,gamma,epsilon,numberEpisodes)\n",
    "# run the learning process\n",
    "LearningQDeep.trainingEpisodes()\n",
    "# get the obtained rewards in every episode\n",
    "LearningQDeep.sumRewardsEpisode\n",
    "\n",
    "#  summarize the model\n",
    "LearningQDeep.mainNetwork.summary()\n",
    "# save the model, this is important, since it takes long time to train the model \n",
    "# and we will need model in another file to visualize the trained model performance\n",
    "LearningQDeep.mainNetwork.save(\"trained_model_temp.h5\")\n"
   ]
  }
 ],
 "metadata": {
  "language_info": {
   "name": "python"
  },
  "orig_nbformat": 4
 },
 "nbformat": 4,
 "nbformat_minor": 2
}
