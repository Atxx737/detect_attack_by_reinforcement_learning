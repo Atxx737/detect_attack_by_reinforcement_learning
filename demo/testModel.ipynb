{
 "cells": [
  {
   "cell_type": "code",
   "execution_count": null,
   "metadata": {},
   "outputs": [],
   "source": [
    "import keras\n",
    "# import the class\n",
    "from functions_final import DeepQLearning\n",
    "import pandas as pd\n",
    "# numpy\n",
    "import numpy as np\n",
    "import random"
   ]
  },
  {
   "cell_type": "code",
   "execution_count": null,
   "metadata": {},
   "outputs": [],
   "source": [
    "TEST_PATH='../data/matrix1/normal/test_csic2010-normal.csv'\n",
    "# TEST_PATH='../data/matrix1/normal/test_fwaf-normal.csv'\n",
    "# TEST_PATH='../data/matrix1/normal/test_http_param-normal.csv'\n",
    "\n",
    "dataset = pd.read_csv(TEST_PATH)\n",
    "# print(type(dataset))"
   ]
  },
  {
   "cell_type": "code",
   "execution_count": null,
   "metadata": {},
   "outputs": [],
   "source": [
    "# select the parameters\n",
    "gamma=1\n",
    "# probability parameter for the epsilon-greedy approach\n",
    "epsilon=0.1\n",
    "# number of training episodes\n",
    "# NOTE HERE THAT AFTER CERTAIN NUMBERS OF EPISODES, WHEN THE PARAMTERS ARE LEARNED\n",
    "# THE EPISODE WILL BE LONG, AT THAT POINT YOU CAN STOP THE TRAINING PROCESS BY PRESSING CTRL+C\n",
    "# DO NOT WORRY, THE PARAMETERS WILL BE MEMORIZED\n",
    "# numberEpisodes=100\n",
    "\n",
    "state_size = 38  # column in dataset exculde label\n",
    "action_size = 2\n",
    "batch_size = 100 # mô hình cập nhật sau khi train 100 dữ liệu\n",
    "# episodes = data.shape[0]"
   ]
  },
  {
   "cell_type": "code",
   "execution_count": null,
   "metadata": {},
   "outputs": [],
   "source": [
    "# load the model\n",
    "loaded_model = keras.models.load_model(\"trained_model.h5\",custom_objects={'my_loss_fn':DeepQLearning.my_loss_fn})\n",
    "\n",
    "sumObtainedRewards=0"
   ]
  },
  {
   "cell_type": "code",
   "execution_count": null,
   "metadata": {},
   "outputs": [],
   "source": [
    "def step(action, index):\n",
    "    if action == dataset.iloc[index].values[-1]: \n",
    "        reward = 1\n",
    "    else:  \n",
    "        reward = -1\n",
    "    # print (\"reward\",reward)\n",
    "    next_state = dataset.iloc[index + 1].values[:-1]\n",
    "    next_state = np.reshape(next_state, [1,state_size])\n",
    "\n",
    "    # print(dataset.iloc[index].values[:-1])\n",
    "    # print(\"nextState\")\n",
    "    # print(dataset.iloc[index + 1].values[:-1])\n",
    "    \n",
    "    if index == (dataset.shape[0]-1):\n",
    "        terminated = True\n",
    "    terminated = False\n",
    "    state = next_state\n",
    "    # print(\"_____________\")\n",
    "    return np.array(state, dtype=np.float32), reward, terminated, False, {}\n"
   ]
  },
  {
   "cell_type": "code",
   "execution_count": null,
   "metadata": {},
   "outputs": [],
   "source": [
    "# create the environment, here you need to keep render_mode='rgb_array' since otherwise it will not generate the movie\n",
    "# reset the environment\n",
    "for row in range(0,len(dataset),1):\n",
    "\n",
    "    # (currentState,prob)=env.reset()\n",
    "    currentState=random.randint(0, len(dataset)-1)\n",
    "    # since the initial state is not a terminal state, set this flag to false\n",
    "    terminalState=False\n",
    "    while not terminalState:\n",
    "        # get the Q-value (1 by 2 vector)\n",
    "        Qvalues=loaded_model.predict(currentState.reshape(1,state_size))\n",
    "        # select the action that gives the max Qvalue\n",
    "        action=np.random.choice(np.where(Qvalues[0,:]==np.max(Qvalues[0,:]))[0])\n",
    "        # if you want random actions for comparison\n",
    "        #action = env.action_space.sample()\n",
    "        # apply the action\n",
    "        (currentState, currentReward, terminalState,_,_) = step(action, row)\n",
    "        # sum the rewards\n",
    "        sumObtainedRewards+=currentReward\n"
   ]
  }
 ],
 "metadata": {
  "language_info": {
   "name": "python"
  },
  "orig_nbformat": 4
 },
 "nbformat": 4,
 "nbformat_minor": 2
}
