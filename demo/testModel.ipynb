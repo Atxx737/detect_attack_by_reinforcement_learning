{
 "cells": [
  {
   "cell_type": "code",
   "execution_count": 3,
   "metadata": {},
   "outputs": [],
   "source": [
    "import keras\n",
    "# import the class\n",
    "from functions_final import DeepQLearning\n",
    "import pandas as pd\n",
    "# numpy\n",
    "import numpy as np\n",
    "import random"
   ]
  },
  {
   "cell_type": "code",
   "execution_count": 4,
   "metadata": {},
   "outputs": [],
   "source": [
    "TEST_PATH='../data/matrix1/normal/test_csic2010-normal.csv'\n",
    "# TEST_PATH='../data/matrix1/normal/test_fwaf-normal.csv'\n",
    "# TEST_PATH='../data/matrix1/normal/test_http_param-normal.csv'\n",
    "\n",
    "dataTest = pd.read_csv(TEST_PATH)\n",
    "# print(type(dataset))"
   ]
  },
  {
   "cell_type": "code",
   "execution_count": 5,
   "metadata": {},
   "outputs": [],
   "source": [
    "# select the parameters\n",
    "gamma=1\n",
    "# probability parameter for the epsilon-greedy approach\n",
    "epsilon=0.1\n",
    "\n",
    "state_size = 38  # column in dataset exculde label\n",
    "action_size = 2\n",
    "batch_size = 100 # mô hình cập nhật sau khi train 100 dữ liệu\n",
    "# episodes = data.shape[0]"
   ]
  },
  {
   "cell_type": "code",
   "execution_count": 1,
   "metadata": {},
   "outputs": [
    {
     "ename": "NameError",
     "evalue": "name 'keras' is not defined",
     "output_type": "error",
     "traceback": [
      "\u001b[0;31m---------------------------------------------------------------------------\u001b[0m",
      "\u001b[0;31mNameError\u001b[0m                                 Traceback (most recent call last)",
      "Cell \u001b[0;32mIn[1], line 2\u001b[0m\n\u001b[1;32m      1\u001b[0m \u001b[39m# load the model\u001b[39;00m\n\u001b[0;32m----> 2\u001b[0m loaded_model \u001b[39m=\u001b[39m keras\u001b[39m.\u001b[39mmodels\u001b[39m.\u001b[39mload_model(\u001b[39m\"\u001b[39m\u001b[39mtrained_model.h5\u001b[39m\u001b[39m\"\u001b[39m,custom_objects\u001b[39m=\u001b[39m{\u001b[39m'\u001b[39m\u001b[39mmy_loss_fn\u001b[39m\u001b[39m'\u001b[39m:DeepQLearning\u001b[39m.\u001b[39mmy_loss_fn})\n\u001b[1;32m      4\u001b[0m accurancy\u001b[39m=\u001b[39m\u001b[39m0\u001b[39m\n\u001b[1;32m      5\u001b[0m TN\u001b[39m=\u001b[39m\u001b[39m0\u001b[39m\n",
      "\u001b[0;31mNameError\u001b[0m: name 'keras' is not defined"
     ]
    }
   ],
   "source": [
    "# load the model\n",
    "loaded_model = keras.models.load_model(\"trained_model.h5\",custom_objects={'my_loss_fn':DeepQLearning.my_loss_fn})\n",
    "\n",
    "accurancy=0\n",
    "TN=0\n",
    "FN=0\n",
    "TP=0\n",
    "FP=0\n",
    "precision=0\n",
    "F1_score=0\n",
    "recall=0"
   ]
  },
  {
   "cell_type": "code",
   "execution_count": null,
   "metadata": {},
   "outputs": [],
   "source": [
    "# create the environment, here you need to keep render_mode='rgb_array' since otherwise it will not generate the movie\n",
    "# reset the environment\n",
    "for row in range(0,len(dataTest),1):\n",
    "\n",
    "    # (currentState,prob)=env.reset()\n",
    "    currentState= dataTest.iloc[row].values[:-1]\n",
    "    # since the initial state is not a terminal state, set this flag to false\n",
    "    # get the Q-value (1 by 2 vector)\n",
    "    Qvalues=loaded_model.predict(currentState.reshape(1,state_size))\n",
    "    # select the action that gives the max Qvalue\n",
    "    action=np.random.choice(np.where(Qvalues[0,:]==np.max(Qvalues[0,:]))[0])\n",
    "    label = dataTest.iloc[row].values[-1]\n",
    "    # if you want random actions for comparison\n",
    "    #action = env.action_space.sample()\n",
    "    # apply the action\n",
    "\n",
    "    if label==1 and action==1:\n",
    "        TP +=1\n",
    "    elif label==0 and action==0:\n",
    "        TN +=1\n",
    "    elif label==0 and action==1:\n",
    "        FP +=1\n",
    "    elif label==1 and action==0:\n",
    "        FN +=1\n",
    "    # sum the rewards\n",
    "\n",
    "\n",
    "accurancy = (TP + TN) / (TP + TN + FP + FN)\n",
    "precision = TP / (TP + FP)\n",
    "recall = TP / (TP + FN)\n",
    "F1_score = 2 * (precision * recall) / (precision + recall)\n",
    "\n",
    "\n"
   ]
  }
 ],
 "metadata": {
  "kernelspec": {
   "display_name": "Python 3",
   "language": "python",
   "name": "python3"
  },
  "language_info": {
   "codemirror_mode": {
    "name": "ipython",
    "version": 3
   },
   "file_extension": ".py",
   "mimetype": "text/x-python",
   "name": "python",
   "nbconvert_exporter": "python",
   "pygments_lexer": "ipython3",
   "version": "3.10.6"
  },
  "orig_nbformat": 4
 },
 "nbformat": 4,
 "nbformat_minor": 2
}
